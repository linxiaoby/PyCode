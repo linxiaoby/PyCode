{
 "cells": [
  {
   "cell_type": "code",
   "execution_count": null,
   "metadata": {},
   "outputs": [],
   "source": [
    "# -*- coding: UTF-8 -*-\n",
    "import sys\n",
    "# 设置编码utf-8，并保持stdin，stdout，stderr正常输出。\n",
    "stdi, stdo, stde = sys.stdin, sys.stdout, sys.stderr\n",
    "reload(sys)\n",
    "sys.setdefaultencoding('utf-8')\n",
    "sys.stdin, sys.stdout, sys.stderr = stdi, stdo, stde\n"
   ]
  },
  {
   "cell_type": "code",
   "execution_count": 21,
   "metadata": {
    "collapsed": false
   },
   "outputs": [
    {
     "name": "stdout",
     "output_type": "stream",
     "text": [
      "                                             Comment  Class\n0  快就是手感满意也好喜欢也流畅很服务态度实用超快挺快用着速度礼品也不错非常好挺好感觉才来还行好...      1\n1                           差评，说好的返现返现都是骗人。东西很差  很垃圾     -1\n2    售后真是差 买了不到15天锁屏键出现故障,申请换货过了审核说上门取件了 等了几天没人来 ...     -1\n3    郁闷啊多等2天多无线充 充电宝和贴膜  和京东沟通没补发 心里那个郁闷啊不摆了  失败 ...     -1\n4                        今天去贴膜时才看到在卡槽右面有一处很小的刻痕，很是郁闷     -1\n"
     ]
    }
   ],
   "source": [
    "#读取数据\n",
    "import pandas as pd\n",
    "dataPath = u\"D:\\\\AllCode\\\\Datas\\\\数据嗨客\\\\中文商品评论情感判定\\\\\"\n",
    "data = pd.read_excel(dataPath + \"data.xls\")\n",
    "print data.head()"
   ]
  },
  {
   "cell_type": "code",
   "execution_count": 24,
   "metadata": {},
   "outputs": [
    {
     "data": {
      "text/plain": [
       " 1    3042\n-1    2657\n 0    2487\nName: Class, dtype: int64"
      ]
     },
     "execution_count": 24,
     "metadata": {},
     "output_type": "execute_result"
    }
   ],
   "source": [
    "data.shape\n",
    "data.columns.values\n",
    "data[\"Class\"].value_counts()"
   ]
  },
  {
   "cell_type": "code",
   "execution_count": null,
   "metadata": {},
   "outputs": [],
   "source": [
    "#2 数据预处理\n"
   ]
  },
  {
   "cell_type": "code",
   "execution_count": 28,
   "metadata": {},
   "outputs": [
    {
     "name": "stdout",
     "output_type": "stream",
     "text": [
      "nan\n"
     ]
    },
    {
     "name": "stdout",
     "output_type": "stream",
     "text": [
      "<type 'numpy.ndarray'>\n"
     ]
    },
    {
     "data": {
      "text/html": [
       "<div>\n",
       "<style>\n",
       "    .dataframe thead tr:only-child th {\n",
       "        text-align: right;\n",
       "    }\n",
       "\n",
       "    .dataframe thead th {\n",
       "        text-align: left;\n",
       "    }\n",
       "\n",
       "    .dataframe tbody tr th {\n",
       "        vertical-align: top;\n",
       "    }\n",
       "</style>\n",
       "<table border=\"1\" class=\"dataframe\">\n",
       "  <thead>\n",
       "    <tr style=\"text-align: right;\">\n",
       "      <th></th>\n",
       "      <th>Class</th>\n",
       "      <th>Comment</th>\n",
       "    </tr>\n",
       "  </thead>\n",
       "  <tbody>\n",
       "    <tr>\n",
       "      <th>0</th>\n",
       "      <td>1</td>\n",
       "      <td>快 就是 手感 满意 也好 喜欢 也 流畅 很 服务态度 实用 超快 挺快 用 着 速度 礼...</td>\n",
       "    </tr>\n",
       "    <tr>\n",
       "      <th>1</th>\n",
       "      <td>-1</td>\n",
       "      <td>差评 ， 说好 的 返现 返现 都 是 骗人 。 东西 很差     很 垃圾</td>\n",
       "    </tr>\n",
       "    <tr>\n",
       "      <th>2</th>\n",
       "      <td>-1</td>\n",
       "      <td>售后 真是 差   买 了 不到 15 天锁 屏键 出现 故障 , 申请 换货 过 ...</td>\n",
       "    </tr>\n",
       "    <tr>\n",
       "      <th>3</th>\n",
       "      <td>-1</td>\n",
       "      <td>郁闷 啊 多 等 2 天多 无线 充   充电 宝 和 贴膜     和 京东 沟通...</td>\n",
       "    </tr>\n",
       "    <tr>\n",
       "      <th>4</th>\n",
       "      <td>-1</td>\n",
       "      <td>今天 去 贴膜 时才 看到 在 卡槽 右面 有 一处 很小 的 刻痕 ， 很 是 郁闷</td>\n",
       "    </tr>\n",
       "    <tr>\n",
       "      <th>5</th>\n",
       "      <td>-1</td>\n",
       "      <td>， 三星 屏幕 就是 垃圾 ， 碎 的 一塌糊涂 ， 不要 再 买</td>\n",
       "    </tr>\n",
       "    <tr>\n",
       "      <th>6</th>\n",
       "      <td>-1</td>\n",
       "      <td>， 冲着 几千块 钱 去 的 ， 我 看 ， 什么 锤子 屏幕 ， 10 厘米 不到 竟然 ...</td>\n",
       "    </tr>\n",
       "    <tr>\n",
       "      <th>7</th>\n",
       "      <td>-1</td>\n",
       "      <td>， 放卡 进去 一直 搞 不出 4g ， 第二天 到 3 星 专卖店 让 人 鼓捣 了 20...</td>\n",
       "    </tr>\n",
       "    <tr>\n",
       "      <th>8</th>\n",
       "      <td>-1</td>\n",
       "      <td>? ? ? ? ? ? ? ? 差差 差差 。 。 。 。 别的 不多 说 ， 那 做工 真...</td>\n",
       "    </tr>\n",
       "    <tr>\n",
       "      <th>9</th>\n",
       "      <td>-1</td>\n",
       "      <td>( ? _ ? ) 手机 拿到 手 发现 屏幕 上面 有 小黑点 ( ? &amp; bull ; ...</td>\n",
       "    </tr>\n",
       "  </tbody>\n",
       "</table>\n",
       "</div>"
      ],
      "text/plain": [
       "<div>\n",
       "<style>\n",
       "    .dataframe thead tr:only-child th {\n",
       "        text-align: right;\n",
       "    }\n",
       "\n",
       "    .dataframe thead th {\n",
       "        text-align: left;\n",
       "    }\n",
       "\n",
       "    .dataframe tbody tr th {\n",
       "        vertical-align: top;\n",
       "    }\n",
       "</style>\n",
       "<table border=\"1\" class=\"dataframe\">\n",
       "  <thead>\n",
       "    <tr style=\"text-align: right;\">\n",
       "      <th></th>\n",
       "      <th>Class</th>\n",
       "      <th>Comment</th>\n",
       "    </tr>\n",
       "  </thead>\n",
       "  <tbody>\n",
       "    <tr>\n",
       "      <th>0</th>\n",
       "      <td>1</td>\n",
       "      <td>快 就是 手感 满意 也好 喜欢 也 流畅 很 服务态度 实用 超快 挺快 用 着 速度 礼...</td>\n",
       "    </tr>\n",
       "    <tr>\n",
       "      <th>1</th>\n",
       "      <td>-1</td>\n",
       "      <td>差评 ， 说好 的 返现 返现 都 是 骗人 。 东西 很差     很 垃圾</td>\n",
       "    </tr>\n",
       "    <tr>\n",
       "      <th>2</th>\n",
       "      <td>-1</td>\n",
       "      <td>售后 真是 差   买 了 不到 15 天锁 屏键 出现 故障 , 申请 换货 过 ...</td>\n",
       "    </tr>\n",
       "    <tr>\n",
       "      <th>3</th>\n",
       "      <td>-1</td>\n",
       "      <td>郁闷 啊 多 等 2 天多 无线 充   充电 宝 和 贴膜     和 京东 沟通...</td>\n",
       "    </tr>\n",
       "    <tr>\n",
       "      <th>4</th>\n",
       "      <td>-1</td>\n",
       "      <td>今天 去 贴膜 时才 看到 在 卡槽 右面 有 一处 很小 的 刻痕 ， 很 是 郁闷</td>\n",
       "    </tr>\n",
       "    <tr>\n",
       "      <th>5</th>\n",
       "      <td>-1</td>\n",
       "      <td>， 三星 屏幕 就是 垃圾 ， 碎 的 一塌糊涂 ， 不要 再 买</td>\n",
       "    </tr>\n",
       "    <tr>\n",
       "      <th>6</th>\n",
       "      <td>-1</td>\n",
       "      <td>， 冲着 几千块 钱 去 的 ， 我 看 ， 什么 锤子 屏幕 ， 10 厘米 不到 竟然 ...</td>\n",
       "    </tr>\n",
       "    <tr>\n",
       "      <th>7</th>\n",
       "      <td>-1</td>\n",
       "      <td>， 放卡 进去 一直 搞 不出 4g ， 第二天 到 3 星 专卖店 让 人 鼓捣 了 20...</td>\n",
       "    </tr>\n",
       "    <tr>\n",
       "      <th>8</th>\n",
       "      <td>-1</td>\n",
       "      <td>? ? ? ? ? ? ? ? 差差 差差 。 。 。 。 别的 不多 说 ， 那 做工 真...</td>\n",
       "    </tr>\n",
       "    <tr>\n",
       "      <th>9</th>\n",
       "      <td>-1</td>\n",
       "      <td>( ? _ ? ) 手机 拿到 手 发现 屏幕 上面 有 小黑点 ( ? &amp; bull ; ...</td>\n",
       "    </tr>\n",
       "  </tbody>\n",
       "</table>\n",
       "</div>"
      ]
     },
     "execution_count": 28,
     "metadata": {},
     "output_type": "execute_result"
    }
   ],
   "source": [
    "# 现在，我们要将Comment列的文本信息，\n",
    "# 转化成数值矩阵表示，也就是将文本映射到特征空间。\n",
    "# 首先，通过jieba，使用HMM模型，对文本进行中文分词。\n",
    "\n",
    "# 导入中文分词库jieba\n",
    "import jieba\n",
    "import numpy as np\n",
    "# 对数据集的每个样本的文本进行中文分词，\n",
    "# 如遇到缺失值，使用“还行 一般吧”进行填充\n",
    "cutted = []\n",
    "for row in data.values:\n",
    "    try:\n",
    "        raw_words = (\" \".join(jieba.cut(row[0])))\n",
    "        cutted.append(raw_words)\n",
    "    except:\n",
    "        print row[0]\n",
    "        cutted.append(u\"还行 一般吧\")\n",
    "cutted_array = np.array(cutted)\n",
    "# 生成新数据文件，Comment字段为分词后的内容\n",
    "data_cutted = pd.DataFrame({\n",
    "    \"Comment\" :cutted_array,\n",
    "    \"Class\":data[\"Class\"]\n",
    "}\n",
    ")\n",
    "print type(data.values)\n",
    "\n",
    "data_cutted.head(10)\n"
   ]
  },
  {
   "cell_type": "code",
   "execution_count": null,
   "metadata": {},
   "outputs": [],
   "source": []
  }
 ],
 "metadata": {
  "kernelspec": {
   "display_name": "Python 2",
   "language": "python",
   "name": "python2"
  },
  "language_info": {
   "codemirror_mode": {
    "name": "ipython",
    "version": 2
   },
   "file_extension": ".py",
   "mimetype": "text/x-python",
   "name": "python",
   "nbconvert_exporter": "python",
   "pygments_lexer": "ipython2",
   "version": "2.7.6"
  }
 },
 "nbformat": 4,
 "nbformat_minor": 0
}
