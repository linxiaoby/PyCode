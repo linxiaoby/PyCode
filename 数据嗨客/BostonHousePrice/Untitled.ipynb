{
 "cells": [
  {
   "cell_type": "code",
   "execution_count": 4,
   "metadata": {},
   "outputs": [],
   "source": [
    "import pandas as pd\n",
    "from sklearn.ensemble import RandomForestRegressor\n",
    "from sklearn.model_selection import train_test_split\n",
    "from sklearn import metrics\n",
    "\n",
    "df = pd.read_csv(\"train.csv\")\n",
    "df_test = pd.read_csv(\"test.csv\")\n",
    "X = df.iloc[:,:-1].values\n",
    "y = df[\"MEDV\"].values\n",
    "X_test = df_test.values\n",
    "#X_train, X_test, y_train, y_test = train_test_split(X,y,test_size=0.2,random_state=0)\n",
    "\n",
    "#train\n",
    "model = RandomForestRegressor(n_estimators=100)\n",
    "model.fit(X,y)\n",
    "\n",
    "#perict\n",
    "y_predict = model.predict(X_test)\n",
    "d = {'ID':df_test['ID'].values,'MEDV':y_predict}\n",
    "pd.DataFrame(d).to_csv(\"submission.csv\")\n",
    "#metrics\n",
    "#print metrics.mean_squared_error(y_test,y_predict)\n"
   ]
  }
 ],
 "metadata": {
  "kernelspec": {
   "display_name": "Python 2",
   "language": "python",
   "name": "python2"
  },
  "language_info": {
   "codemirror_mode": {
    "name": "ipython",
    "version": 2
   },
   "file_extension": ".py",
   "mimetype": "text/x-python",
   "name": "python",
   "nbconvert_exporter": "python",
   "pygments_lexer": "ipython2",
   "version": "2.7.13"
  }
 },
 "nbformat": 4,
 "nbformat_minor": 2
}
