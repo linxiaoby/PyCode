{
 "cells": [
  {
   "cell_type": "code",
   "execution_count": 34,
   "metadata": {
    "collapsed": true,
    "slideshow": {
     "slide_type": "skip"
    }
   },
   "outputs": [],
   "source": [
    "import pandas as pd\n",
    "from sklearn.ensemble import RandomForestRegressor\n",
    "def preprocess(data):\n",
    "    data = data.drop([\"Id\", \"Alley\",\"MoSold\",\"YearBuilt\",\"YearRemodAdd\",\"GarageYrBlt\",\"Street\",\n",
    "                      \"LotShape\"], axis=1)\n",
    "    data_new = pd.DataFrame()\n",
    "    for col in data.columns.values:\n",
    "        if data[col].dtypes == \"object\":\n",
    "            col_new = data[col].fillna(\"Unknown\")\n",
    "            col_new = pd.get_dummies(col_new, prefix=col + \"_\")\n",
    "        else:\n",
    "            col_new = data[col].fillna(data[col].mean())\n",
    "    #encoding\n",
    "        data_new = pd.concat([data_new, col_new], axis = 1)\n",
    "    return data_new\n",
    "\n",
    "\n",
    "df_train = pd.read_csv(\"trainData.csv\")\n",
    "df_test = pd.read_csv(\"testData.csv\")\n",
    "\n",
    "X_all = pd.concat([df_train.drop(\"SalePrice\",axis=1),df_test])\n",
    "X_all_new = preprocess(X_all)\n",
    "X_train = X_all_new.iloc[:1160,:]\n",
    "X_test = X_all_new.iloc[1160:,:]\n",
    "y_train = df_train[\"SalePrice\"]\n",
    "\n",
    "rfr = RandomForestRegressor(n_estimators = 100)\n",
    "rfr.fit(X_train, y_train)\n",
    "y_predic = rfr.predict(X_test)\n",
    "result = {\"Id\":df_test[\"Id\"].values, \"SalePrice\":y_predic}\n",
    "pd.DataFrame(result).to_csv(\"answer.csv\")\n"
   ]
  },
  {
   "cell_type": "code",
   "execution_count": 15,
   "metadata": {},
   "outputs": [
    {
     "name": "stdout",
     "output_type": "stream",
     "text": [
      "1857990031.68\n"
     ]
    }
   ],
   "source": [
    "import pandas as pd\n",
    "from sklearn.ensemble import RandomForestRegressor\n",
    "from sklearn.model_selection import train_test_split\n",
    "from sklearn import metrics\n",
    "def preprocess(data):\n",
    "    data = data.drop([\"Id\", \"Alley\", \"Utilities\", \"PoolQC\", \"Utilities\"], axis=1)\n",
    "    data_new = pd.DataFrame()\n",
    "    for col in data.columns.values:\n",
    "        if data[col].dtypes == \"object\" or col in [\"MSSubClass\", \"YearBuilt\", \"YearRemodAdd\", \"GarageYrBlt\",\"MoSold\", \"YrSold\"]:\n",
    "            col_new = data[col].fillna(\"Unknown\")\n",
    "            col_new = pd.get_dummies(col_new, prefix=col + \"_\")\n",
    "        else:\n",
    "            col_new = data[col].fillna(data[col].mean())\n",
    "    #encoding\n",
    "        data_new = pd.concat([data_new, col_new], axis = 1)\n",
    "    return data_new\n",
    "\n",
    "\n",
    "df_train = pd.read_csv(\"trainData.csv\")\n",
    "df_test = pd.read_csv(\"testData.csv\")\n",
    "\n",
    "X_all = pd.concat([df_train.drop(\"SalePrice\",axis=1),df_test])\n",
    "X_all_new = preprocess(X_all)\n",
    "\n",
    "X_train = X_all_new.iloc[:910,:]\n",
    "X_metric = X_all_new.iloc[910:1160,:]\n",
    "X_test = X_all_new.iloc[1160:,:]\n",
    "y_train = df_train[\"SalePrice\"][:910]\n",
    "y_metric = df_train[\"SalePrice\"][910:]\n",
    "\n",
    "rfr = RandomForestRegressor(n_estimators = 200)\n",
    "rfr.fit(X_train, y_train)\n",
    "y_predic = rfr.predict(X_metric)\n",
    "print metrics.mean_squared_error(y_metric, y_predic)\n",
    "\n"
   ]
  },
  {
   "cell_type": "code",
   "execution_count": 27,
   "metadata": {},
   "outputs": [
    {
     "ename": "ValueError",
     "evalue": "Number of features of the model must match the input. Model n_features is 592 and input n_features is 290 ",
     "output_type": "error",
     "traceback": [
      "\u001b[1;31m---------------------------------------------------------------------------\u001b[0m",
      "\u001b[1;31mValueError\u001b[0m                                Traceback (most recent call last)",
      "\u001b[1;32m<ipython-input-27-9187fc650aa1>\u001b[0m in \u001b[0;36m<module>\u001b[1;34m()\u001b[0m\n\u001b[0;32m     31\u001b[0m \u001b[0mclf\u001b[0m \u001b[1;33m=\u001b[0m \u001b[0msvm\u001b[0m\u001b[1;33m.\u001b[0m\u001b[0mSVR\u001b[0m\u001b[1;33m(\u001b[0m\u001b[1;33m)\u001b[0m\u001b[1;33m\u001b[0m\u001b[0m\n\u001b[0;32m     32\u001b[0m \u001b[0mclf\u001b[0m\u001b[1;33m.\u001b[0m\u001b[0mfit\u001b[0m\u001b[1;33m(\u001b[0m\u001b[0mX_train\u001b[0m\u001b[1;33m,\u001b[0m \u001b[0my_train\u001b[0m\u001b[1;33m)\u001b[0m\u001b[1;33m\u001b[0m\u001b[0m\n\u001b[1;32m---> 33\u001b[1;33m \u001b[0my_predic\u001b[0m \u001b[1;33m=\u001b[0m \u001b[0mrfr\u001b[0m\u001b[1;33m.\u001b[0m\u001b[0mpredict\u001b[0m\u001b[1;33m(\u001b[0m\u001b[0mX_metric\u001b[0m\u001b[1;33m)\u001b[0m\u001b[1;33m\u001b[0m\u001b[0m\n\u001b[0m\u001b[0;32m     34\u001b[0m \u001b[1;32mprint\u001b[0m \u001b[0mmetrics\u001b[0m\u001b[1;33m.\u001b[0m\u001b[0mmean_squared_error\u001b[0m\u001b[1;33m(\u001b[0m\u001b[0my_metric\u001b[0m\u001b[1;33m,\u001b[0m \u001b[0my_predic\u001b[0m\u001b[1;33m)\u001b[0m\u001b[1;33m\u001b[0m\u001b[0m\n\u001b[0;32m     35\u001b[0m \u001b[1;33m\u001b[0m\u001b[0m\n",
      "\u001b[1;32mC:\\soft\\Anaconda2\\lib\\site-packages\\sklearn\\ensemble\\forest.pyc\u001b[0m in \u001b[0;36mpredict\u001b[1;34m(self, X)\u001b[0m\n\u001b[0;32m    683\u001b[0m         \"\"\"\n\u001b[0;32m    684\u001b[0m         \u001b[1;31m# Check data\u001b[0m\u001b[1;33m\u001b[0m\u001b[1;33m\u001b[0m\u001b[0m\n\u001b[1;32m--> 685\u001b[1;33m         \u001b[0mX\u001b[0m \u001b[1;33m=\u001b[0m \u001b[0mself\u001b[0m\u001b[1;33m.\u001b[0m\u001b[0m_validate_X_predict\u001b[0m\u001b[1;33m(\u001b[0m\u001b[0mX\u001b[0m\u001b[1;33m)\u001b[0m\u001b[1;33m\u001b[0m\u001b[0m\n\u001b[0m\u001b[0;32m    686\u001b[0m \u001b[1;33m\u001b[0m\u001b[0m\n\u001b[0;32m    687\u001b[0m         \u001b[1;31m# Assign chunk of trees to jobs\u001b[0m\u001b[1;33m\u001b[0m\u001b[1;33m\u001b[0m\u001b[0m\n",
      "\u001b[1;32mC:\\soft\\Anaconda2\\lib\\site-packages\\sklearn\\ensemble\\forest.pyc\u001b[0m in \u001b[0;36m_validate_X_predict\u001b[1;34m(self, X)\u001b[0m\n\u001b[0;32m    353\u001b[0m                                  \"call `fit` before exploiting the model.\")\n\u001b[0;32m    354\u001b[0m \u001b[1;33m\u001b[0m\u001b[0m\n\u001b[1;32m--> 355\u001b[1;33m         \u001b[1;32mreturn\u001b[0m \u001b[0mself\u001b[0m\u001b[1;33m.\u001b[0m\u001b[0mestimators_\u001b[0m\u001b[1;33m[\u001b[0m\u001b[1;36m0\u001b[0m\u001b[1;33m]\u001b[0m\u001b[1;33m.\u001b[0m\u001b[0m_validate_X_predict\u001b[0m\u001b[1;33m(\u001b[0m\u001b[0mX\u001b[0m\u001b[1;33m,\u001b[0m \u001b[0mcheck_input\u001b[0m\u001b[1;33m=\u001b[0m\u001b[0mTrue\u001b[0m\u001b[1;33m)\u001b[0m\u001b[1;33m\u001b[0m\u001b[0m\n\u001b[0m\u001b[0;32m    356\u001b[0m \u001b[1;33m\u001b[0m\u001b[0m\n\u001b[0;32m    357\u001b[0m     \u001b[1;33m@\u001b[0m\u001b[0mproperty\u001b[0m\u001b[1;33m\u001b[0m\u001b[0m\n",
      "\u001b[1;32mC:\\soft\\Anaconda2\\lib\\site-packages\\sklearn\\tree\\tree.pyc\u001b[0m in \u001b[0;36m_validate_X_predict\u001b[1;34m(self, X, check_input)\u001b[0m\n\u001b[0;32m    374\u001b[0m                              \u001b[1;34m\"match the input. Model n_features is %s and \"\u001b[0m\u001b[1;33m\u001b[0m\u001b[0m\n\u001b[0;32m    375\u001b[0m                              \u001b[1;34m\"input n_features is %s \"\u001b[0m\u001b[1;33m\u001b[0m\u001b[0m\n\u001b[1;32m--> 376\u001b[1;33m                              % (self.n_features_, n_features))\n\u001b[0m\u001b[0;32m    377\u001b[0m \u001b[1;33m\u001b[0m\u001b[0m\n\u001b[0;32m    378\u001b[0m         \u001b[1;32mreturn\u001b[0m \u001b[0mX\u001b[0m\u001b[1;33m\u001b[0m\u001b[0m\n",
      "\u001b[1;31mValueError\u001b[0m: Number of features of the model must match the input. Model n_features is 592 and input n_features is 290 "
     ]
    }
   ],
   "source": [
    "import pandas as pd\n",
    "from sklearn import svm\n",
    "from sklearn.model_selection import train_test_split\n",
    "from sklearn import metrics\n",
    "def preprocess(data):\n",
    "    data = data.drop([\"Id\", \"Alley\", \"Utilities\", \"PoolQC\", \"Utilities\",\"YearBuilt\", \"YearRemodAdd\", \"GarageYrBlt\",\"MoSold\", \"YrSold\"], axis=1)\n",
    "    data_new = pd.DataFrame()\n",
    "    for col in data.columns.values:\n",
    "        if data[col].dtypes == \"object\":\n",
    "            col_new = data[col].fillna(\"Unknown\")\n",
    "            col_new = pd.get_dummies(col_new, prefix=col + \"_\")\n",
    "        else:\n",
    "            col_new = data[col].fillna(data[col].mean())\n",
    "    #encoding\n",
    "        data_new = pd.concat([data_new, col_new], axis = 1)\n",
    "    return data_new\n",
    "\n",
    "\n",
    "df_train = pd.read_csv(\"trainData.csv\")\n",
    "df_test = pd.read_csv(\"testData.csv\")\n",
    "\n",
    "X_all = pd.concat([df_train.drop(\"SalePrice\",axis=1),df_test])\n",
    "X_all_new = preprocess(X_all)\n",
    "\n",
    "X_train = X_all_new.iloc[:910,:]\n",
    "X_metric = X_all_new.iloc[910:1160,:]\n",
    "X_test = X_all_new.iloc[1160:,:]\n",
    "y_train = df_train[\"SalePrice\"][:910]\n",
    "y_metric = df_train[\"SalePrice\"][910:]\n",
    "\n",
    "clf = svm.SVR()\n",
    "clf.fit(X_train, y_train)\n",
    "y_predic = rfr.predict(X_metric)\n",
    "print metrics.mean_squared_error(y_metric, y_predic)\n",
    "\n"
   ]
  },
  {
   "cell_type": "code",
   "execution_count": 36,
   "metadata": {},
   "outputs": [
    {
     "name": "stdout",
     "output_type": "stream",
     "text": [
      "AllPub    1159\n",
      "NoSeWa       1\n",
      "Name: Utilities, dtype: int64\n"
     ]
    }
   ],
   "source": [
    "import pandas as pd\n",
    "from sklearn import svm\n",
    "from sklearn.ensemble import RandomForestRegressor\n",
    "def preprocess(data):\n",
    "    data = data.drop([\"Id\", \"Alley\", \"Utilities\", \"PoolQC\", \"Utilities\"], axis=1)\n",
    "    data_new = pd.DataFrame()\n",
    "    for col in data.columns.values:\n",
    "        if data[col].dtypes == \"object\" or col in [\"MSSubClass\", \"YearBuilt\", \"YearRemodAdd\", \"GarageYrBlt\",\"MoSold\", \"YrSold\"]:\n",
    "            col_new = data[col].fillna(\"Unknown\")\n",
    "            col_new = pd.get_dummies(col_new, prefix=col + \"_\")\n",
    "        else:\n",
    "            col_new = data[col].fillna(data[col].mean())\n",
    "    #encoding\n",
    "        data_new = pd.concat([data_new, col_new], axis = 1)\n",
    "    return data_new\n",
    "\n",
    "\n",
    "df_train = pd.read_csv(\"trainData.csv\")\n",
    "df_test = pd.read_csv(\"testData.csv\")\n",
    "\n",
    "print df_train[\"Utilities\"].value_counts()\n",
    "# X_all = pd.concat([df_train.drop(\"SalePrice\",axis=1),df_test])\n",
    "# X_all_new = preprocess(X_all)\n",
    "# X_train = X_all_new.iloc[:1160,:]\n",
    "# X_test = X_all_new.iloc[1160:,:]\n",
    "# y_train = df_train[\"SalePrice\"]\n",
    "\n",
    "# clf = svm.SVR()\n",
    "# clf.fit(X_train, y_train)\n",
    "# y_predic = rfr.predict(X_test)\n",
    "# result = {\"Id\":df_test[\"Id\"].values, \"SalePrice\":y_predic}\n",
    "# pd.DataFrame(result).to_csv(\"answer.csv\")\n"
   ]
  },
  {
   "cell_type": "markdown",
   "metadata": {},
   "source": [
    "## 预处理"
   ]
  },
  {
   "cell_type": "code",
   "execution_count": 103,
   "metadata": {},
   "outputs": [
    {
     "name": "stdout",
     "output_type": "stream",
     "text": [
      "X_train.shape is  (1160, 304)\n",
      "20324.4736505\n"
     ]
    }
   ],
   "source": [
    "import pandas as pd\n",
    "import numpy as np\n",
    "from sklearn import svm\n",
    "from sklearn.ensemble import RandomForestRegressor\n",
    "\n",
    "def preprocess(data):\n",
    "    data = data.drop([\"Id\",\"PoolQC\",\"MiscFeature\", \"Alley\",\"Fence\",\"FireplaceQu\",\"LotFrontage\"], axis=1)\n",
    "    data_new = pd.DataFrame()\n",
    "    \n",
    "    #缺失值处理 + 哑编码\n",
    "    for col in data.columns.values:\n",
    "#         if data[col].dtypes == \"object\" :\n",
    "        if data[col].dtypes == \"object\":\n",
    "            col_new = data[col].fillna(\"Unknown\")\n",
    "            col_new = pd.get_dummies(col_new, prefix=col + \"_\")\n",
    "        else:\n",
    "            col_new = data[col].fillna(data[col].mean())\n",
    "        data_new = pd.concat([data_new, col_new], axis = 1)\n",
    "    return data_new\n",
    "\n",
    "from sklearn.feature_selection import SelectKBest,chi2\n",
    "df_train = pd.read_csv(\"trainData.csv\")\n",
    "df_test = pd.read_csv(\"testData.csv\")\n",
    "#++++++++++++++++++++++++++++++++++++++++++++++++++++++++\n",
    "# #预处理\n",
    "# X_all = pd.concat([df_train.drop(\"SalePrice\",axis=1),df_test])\n",
    "# X_all_new = preprocess(X_all)\n",
    "# X_train = X_all_new.iloc[:1160,:]\n",
    "# X_test = X_all_new.iloc[1160:,:]\n",
    "# y_train = df_train[\"SalePrice\"]\n",
    "\n",
    "# #特征选择\n",
    "# # b = SelectKBest(chi2, k=291)\n",
    "# # b.fit(X_train, y_train)\n",
    "# # X_train = X_train.iloc[:, b.get_support()]\n",
    "# # X_test = X_test.iloc[:, b.get_support()]\n",
    "\n",
    "# # #模型训练\n",
    "# from sklearn import linear_model\n",
    "# reg = linear_model.Lasso(alpha = 110)\n",
    "# reg.fit(X_train,y_train)\n",
    "# y_predict = reg.predict(X_test)\n",
    "# result = {\"Id\":df_test[\"Id\"].values, \"SalePrice\":y_predict}\n",
    "# pd.DataFrame(result).to_csv(\"answer.csv\",index = False)\n",
    "\n",
    "\n",
    "# #评估===============================================\n",
    "\n",
    "#预处理\n",
    "from sklearn.preprocessing import StandardScaler\n",
    "X_all = pd.concat([df_train.drop(\"SalePrice\",axis=1),df_test])\n",
    "X_all_new = preprocess(X_all)\n",
    "X_train = X_all_new.iloc[:1160,:]\n",
    "X_test = X_all_new.iloc[1160:,:]\n",
    "print \"X_train.shape is \", X_train.shape\n",
    "#评估数据集\n",
    "X_traint = X_train.iloc[:910,:]\n",
    "X_metric = X_train.iloc[910:1160,:]\n",
    "y_traint = df_train[\"SalePrice\"][:910]\n",
    "y_metric = df_train[\"SalePrice\"][910:]\n",
    "\n",
    "#模型训练\n",
    "clf = RandomForestRegressor(n_estimators = 100)\n",
    "clf.fit(X_traint, y_traint)\n",
    "\n",
    "from sklearn import svm\n",
    "clf = svm.SVR()\n",
    "clf.fit(X_traint, y_traint)\n",
    "\n",
    "from sklearn import linear_model\n",
    "reg = linear_model.Lasso(alpha = 110)\n",
    "reg.fit(X_traint, y_traint)\n",
    "y_predict = reg.predict(X_metric)\n",
    "from sklearn.model_selection import train_test_split\n",
    "from sklearn import metrics\n",
    "import math\n",
    "print math.sqrt(metrics.mean_squared_error(y_metric, y_predict))\n",
    "\n",
    "\n",
    "# result = {\"Id\":df_test[\"Id\"].values, \"SalePrice\":y_predict}\n",
    "# pd.DataFrame(result).to_csv(\"answer.csv\")\n",
    "\n"
   ]
  },
  {
   "cell_type": "markdown",
   "metadata": {},
   "source": [
    "# 数据探索：观察价格的分布"
   ]
  },
  {
   "cell_type": "code",
   "execution_count": 43,
   "metadata": {},
   "outputs": [
    {
     "data": {
      "image/png": "[encoded data removed]",
      "text/plain": [
       "<matplotlib.figure.Figure at 0x100e6400>"
      ]
     },
     "metadata": {},
     "output_type": "display_data"
    }
   ],
   "source": [
    "import pandas as pd\n",
    "import numpy as np\n",
    "import matplotlib.pyplot as plt\n",
    "train = pd.read_csv(\"trainData.csv\")\n",
    "test = pd.read_csv(\"testData.csv\")\n",
    "fig = plt.figure()\n",
    "fig.set_figheight(6)\n",
    "fig.set_figwidth(12)\n",
    "ax1 = fig.add_subplot(1, 2, 1)\n",
    "ax2 = fig.add_subplot(1, 2, 2)\n",
    "ax1.hist(train.SalePrice)\n",
    "ax2.hist(np.log1p(train.SalePrice))#取对数之后成正态分布\n",
    "plt.show()"
   ]
  },
  {
   "cell_type": "markdown",
   "metadata": {},
   "source": [
    "## 观察非数值型特征与目标变量的关系"
   ]
  },
  {
   "cell_type": "code",
   "execution_count": 107,
   "metadata": {},
   "outputs": [
    {
     "data": {
      "image/png": "[encoded data removed]",
      "text/plain": [
       "<matplotlib.figure.Figure at 0xee747f0>"
      ]
     },
     "metadata": {},
     "output_type": "display_data"
    }
   ],
   "source": [
    "import seaborn as sns\n",
    "features = pd.concat([train, test],keys=['train','test'])#数据集合测试集融合\n",
    "numeric_feats = features.dtypes[features.dtypes!=\"object\"].index  #数值特征\n",
    "categorical_feats = features.dtypes[features.dtypes==\"object\"].index #非数值特征\n",
    "for c in categorical_feats:\n",
    "    train[c] = train[c].astype('category')\n",
    "    if train[c].isnull().any():\n",
    "        train[c] = train[c].cat.add_categories([\"Missing\"])\n",
    "        train[c] = train[c].fillna(\"Missing\")\n",
    "def boxplot(x,y,**kwargs):\n",
    "    sns.boxplot(x=x,y=y)\n",
    "categorical_feats = [\"Fence\"]    \n",
    "f = pd.melt(train,id_vars=['SalePrice'],value_vars=categorical_feats)\n",
    "g = sns.FacetGrid(f,col='variable',col_wrap=3,sharex=False,sharey=False,size=5)\n",
    "g = g.map(boxplot,\"value\",\"SalePrice\")\n",
    "sns.plt.show()\n"
   ]
  },
  {
   "cell_type": "markdown",
   "metadata": {},
   "source": [
    "## 数值特征与价格的关系\n",
    "对于没有跟SalePrice呈现明显线性关系的，可以尝试将其转为类别特征来处理？？"
   ]
  },
  {
   "cell_type": "code",
   "execution_count": 106,
   "metadata": {},
   "outputs": [
    {
     "data": {
      "image/png": "[encoded data removed]",
      "text/plain": [
       "<matplotlib.figure.Figure at 0xb2061d30>"
      ]
     },
     "metadata": {},
     "output_type": "display_data"
    }
   ],
   "source": [
    "nomial_feats=['MSSubClass','OverallQual','OverallCond','YearBuilt','YearRemodAdd','BsmtFullBath','FullBath','HalfBath',\n",
    "             'BedroomAbvGr','TotRmsAbvGrd','GarageYrBlt','GarageCars','MoSold','YrSold']\n",
    "for c in nomial_feats:\n",
    "    train[c] = train[c].astype('category')\n",
    "    if train[c].isnull().any():\n",
    "        train[c] = train[c].cat.add_categories([\"Missing\"])\n",
    "        train[c] = train[c].fillna(\"Missing\")\n",
    "def boxplot(x,y,**kwargs):\n",
    "    sns.boxplot(x=x,y=y)\n",
    "nomial_feats = \"LotFrontage\"\n",
    "f = pd.melt(train,id_vars=['SalePrice'],value_vars=nomial_feats)\n",
    "g = sns.FacetGrid(f,col='variable',col_wrap=3,sharex=False,sharey=False,size=5)\n",
    "g = g.map(boxplot,\"value\",\"SalePrice\")\n",
    "sns.plt.show()"
   ]
  },
  {
   "cell_type": "markdown",
   "metadata": {},
   "source": [
    "## 变量之间的相关性\n",
    "相关性太高的几个特征可以只保留一个"
   ]
  },
  {
   "cell_type": "code",
   "execution_count": 83,
   "metadata": {},
   "outputs": [],
   "source": [
    "plt.subplots(figsize=(12,10))\n",
    "corrmat = train.corr()\n",
    "g = sns.heatmap(train.corr())"
   ]
  },
  {
   "cell_type": "markdown",
   "metadata": {},
   "source": [
    "## 缺失值情况\n",
    "删除缺失值大于15%的特征 PoolQC，MiscFeature Alley\tFence\tFireplaceQu\tLotFrontage"
   ]
  },
  {
   "cell_type": "code",
   "execution_count": 105,
   "metadata": {},
   "outputs": [
    {
     "name": "stdout",
     "output_type": "stream",
     "text": [
      "(1160, 81)\n"
     ]
    },
    {
     "data": {
      "text/html": [
       "<div>\n",
       "<style>\n",
       "    .dataframe thead tr:only-child th {\n",
       "        text-align: right;\n",
       "    }\n",
       "\n",
       "    .dataframe thead th {\n",
       "        text-align: left;\n",
       "    }\n",
       "\n",
       "    .dataframe tbody tr th {\n",
       "        vertical-align: top;\n",
       "    }\n",
       "</style>\n",
       "<table border=\"1\" class=\"dataframe\">\n",
       "  <thead>\n",
       "    <tr style=\"text-align: right;\">\n",
       "      <th></th>\n",
       "      <th>count</th>\n",
       "      <th>ratio</th>\n",
       "    </tr>\n",
       "  </thead>\n",
       "  <tbody>\n",
       "    <tr>\n",
       "      <th>PoolQC</th>\n",
       "      <td>1154</td>\n",
       "      <td>0.994828</td>\n",
       "    </tr>\n",
       "    <tr>\n",
       "      <th>MiscFeature</th>\n",
       "      <td>1116</td>\n",
       "      <td>0.962069</td>\n",
       "    </tr>\n",
       "    <tr>\n",
       "      <th>Alley</th>\n",
       "      <td>1090</td>\n",
       "      <td>0.939655</td>\n",
       "    </tr>\n",
       "    <tr>\n",
       "      <th>Fence</th>\n",
       "      <td>941</td>\n",
       "      <td>0.811207</td>\n",
       "    </tr>\n",
       "    <tr>\n",
       "      <th>FireplaceQu</th>\n",
       "      <td>549</td>\n",
       "      <td>0.473276</td>\n",
       "    </tr>\n",
       "    <tr>\n",
       "      <th>LotFrontage</th>\n",
       "      <td>204</td>\n",
       "      <td>0.175862</td>\n",
       "    </tr>\n",
       "    <tr>\n",
       "      <th>GarageCond</th>\n",
       "      <td>64</td>\n",
       "      <td>0.055172</td>\n",
       "    </tr>\n",
       "    <tr>\n",
       "      <th>GarageType</th>\n",
       "      <td>64</td>\n",
       "      <td>0.055172</td>\n",
       "    </tr>\n",
       "    <tr>\n",
       "      <th>GarageYrBlt</th>\n",
       "      <td>64</td>\n",
       "      <td>0.055172</td>\n",
       "    </tr>\n",
       "    <tr>\n",
       "      <th>GarageFinish</th>\n",
       "      <td>64</td>\n",
       "      <td>0.055172</td>\n",
       "    </tr>\n",
       "    <tr>\n",
       "      <th>GarageQual</th>\n",
       "      <td>64</td>\n",
       "      <td>0.055172</td>\n",
       "    </tr>\n",
       "    <tr>\n",
       "      <th>BsmtExposure</th>\n",
       "      <td>33</td>\n",
       "      <td>0.028448</td>\n",
       "    </tr>\n",
       "    <tr>\n",
       "      <th>BsmtFinType2</th>\n",
       "      <td>33</td>\n",
       "      <td>0.028448</td>\n",
       "    </tr>\n",
       "    <tr>\n",
       "      <th>BsmtFinType1</th>\n",
       "      <td>32</td>\n",
       "      <td>0.027586</td>\n",
       "    </tr>\n",
       "    <tr>\n",
       "      <th>BsmtCond</th>\n",
       "      <td>32</td>\n",
       "      <td>0.027586</td>\n",
       "    </tr>\n",
       "    <tr>\n",
       "      <th>BsmtQual</th>\n",
       "      <td>32</td>\n",
       "      <td>0.027586</td>\n",
       "    </tr>\n",
       "    <tr>\n",
       "      <th>MasVnrArea</th>\n",
       "      <td>6</td>\n",
       "      <td>0.005172</td>\n",
       "    </tr>\n",
       "    <tr>\n",
       "      <th>MasVnrType</th>\n",
       "      <td>6</td>\n",
       "      <td>0.005172</td>\n",
       "    </tr>\n",
       "    <tr>\n",
       "      <th>Electrical</th>\n",
       "      <td>1</td>\n",
       "      <td>0.000862</td>\n",
       "    </tr>\n",
       "    <tr>\n",
       "      <th>Utilities</th>\n",
       "      <td>0</td>\n",
       "      <td>0.000000</td>\n",
       "    </tr>\n",
       "  </tbody>\n",
       "</table>\n",
       "</div>"
      ],
      "text/plain": [
       "              count     ratio\n",
       "PoolQC         1154  0.994828\n",
       "MiscFeature    1116  0.962069\n",
       "Alley          1090  0.939655\n",
       "Fence           941  0.811207\n",
       "FireplaceQu     549  0.473276\n",
       "LotFrontage     204  0.175862\n",
       "GarageCond       64  0.055172\n",
       "GarageType       64  0.055172\n",
       "GarageYrBlt      64  0.055172\n",
       "GarageFinish     64  0.055172\n",
       "GarageQual       64  0.055172\n",
       "BsmtExposure     33  0.028448\n",
       "BsmtFinType2     33  0.028448\n",
       "BsmtFinType1     32  0.027586\n",
       "BsmtCond         32  0.027586\n",
       "BsmtQual         32  0.027586\n",
       "MasVnrArea        6  0.005172\n",
       "MasVnrType        6  0.005172\n",
       "Electrical        1  0.000862\n",
       "Utilities         0  0.000000"
      ]
     },
     "execution_count": 105,
     "metadata": {},
     "output_type": "execute_result"
    }
   ],
   "source": [
    "print df_train.shape\n",
    "na_count = df_train.isnull().sum().sort_values(ascending=False)\n",
    "na_rate = na_count / len(df_train)\n",
    "na_data = pd.concat([na_count,na_rate],axis=1,keys=['count','ratio'])\n",
    "na_data.head(20)"
   ]
  }
 ],
 "metadata": {
  "kernelspec": {
   "display_name": "Python 2",
   "language": "python",
   "name": "python2"
  },
  "language_info": {
   "codemirror_mode": {
    "name": "ipython",
    "version": 2
   },
   "file_extension": ".py",
   "mimetype": "text/x-python",
   "name": "python",
   "nbconvert_exporter": "python",
   "pygments_lexer": "ipython2",
   "version": "2.7.13"
  }
 },
 "nbformat": 4,
 "nbformat_minor": 2
}
