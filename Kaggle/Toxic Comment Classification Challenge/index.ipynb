{
 "cells": [
  {
   "cell_type": "code",
   "execution_count": 6,
   "metadata": {
    "collapsed": false
   },
   "outputs": [
    {
     "name": "stdout",
     "output_type": "stream",
     "text": [
      "                                        comment_text  identity_hate  insult  \\\n0  Nonsense?  kiss off, geek. what I said is true...            0.0     0.0   \n1  \"\\n\\n Please do not vandalize pages, as you di...            0.0     0.0   \n2  \"\\n\\n \"\"Points of interest\"\" \\n\\nI removed the...            0.0     0.0   \n3  Asking some his nationality is a Racial offenc...            0.0     0.0   \n4  The reader here is not going by my say so for ...            0.0     0.0   \n\n   obscene  severe_toxic  threat  toxic  \n0      0.0           0.0     0.0    1.0  \n1      0.0           0.0     0.0    0.0  \n2      0.0           0.0     0.0    0.0  \n3      0.0           0.0     0.0    0.0  \n4      0.0           0.0     0.0    0.0  \n"
     ]
    }
   ],
   "source": [
    "#读入数据\n",
    "import pandas as pd\n",
    "dataPath = \"F:\\\\Datas\\\\Kaggle\\\\Toxic Comment Classification Challenge\\\\\"\n",
    "train = pd.read_csv(dataPath + \"\\\\train.csv\\\\train.csv\")\n",
    "test = pd.read_csv(dataPath + \"\\\\test.csv\\\\test.csv\")\n",
    "test_id = test[\"id\"]\n",
    "train = train.drop([\"id\"], axis=1)\n",
    "test = test.drop([\"id\"], axis=1)\n",
    "fulldata = pd.concat([train, test])\n",
    "print fulldata.head()"
   ]
  },
  {
   "cell_type": "code",
   "execution_count": 18,
   "metadata": {
    "collapsed": false
   },
   "outputs": [
    {
     "name": "stdout",
     "output_type": "stream",
     "text": [
      "                                        comment_text  identity_hate  insult  \\\n0  nonsense?  kiss off, geek. what i said is true...            0.0     0.0   \n1  \"\\n\\n please do not vandalize pages, as you di...            0.0     0.0   \n2  \"\\n\\n \"\"points of interest\"\" \\n\\ni removed the...            0.0     0.0   \n3  asking some his nationality is a racial offenc...            0.0     0.0   \n4  the reader here is not going by my say so for ...            0.0     0.0   \n\n   obscene  severe_toxic  threat  toxic  \n0      0.0           0.0     0.0    1.0  \n1      0.0           0.0     0.0    0.0  \n2      0.0           0.0     0.0    0.0  \n3      0.0           0.0     0.0    0.0  \n4      0.0           0.0     0.0    0.0  \n"
     ]
    }
   ],
   "source": [
    "#数据预处理\n",
    "#大写转为小写\n",
    "fulldata[\"comment_text\"] = fulldata[\"comment_text\"].str.lower()\n",
    "print fulldata.head()\n",
    "#去除无用的符号用空格代替 ? , , \\n . \n",
    "#去除停用词\n",
    "#向量化"
   ]
  },
  {
   "cell_type": "code",
   "execution_count": null,
   "metadata": {},
   "outputs": [],
   "source": []
  }
 ],
 "metadata": {
  "kernelspec": {
   "display_name": "Python 2",
   "language": "python",
   "name": "python2"
  },
  "language_info": {
   "codemirror_mode": {
    "name": "ipython",
    "version": 2
   },
   "file_extension": ".py",
   "mimetype": "text/x-python",
   "name": "python",
   "nbconvert_exporter": "python",
   "pygments_lexer": "ipython2",
   "version": "2.7.6"
  }
 },
 "nbformat": 4,
 "nbformat_minor": 0
}
