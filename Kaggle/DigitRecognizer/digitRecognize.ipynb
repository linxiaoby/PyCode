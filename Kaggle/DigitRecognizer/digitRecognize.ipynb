{
 "cells": [
  {
   "cell_type": "code",
   "execution_count": null,
   "metadata": {
    "collapsed": true
   },
   "outputs": [],
   "source": [
    "import pandas as pd\n",
    "from sklearn.neighbors  import KNeighborsClassifier\n",
    "#导入数据\n",
    "dataPath = \"F:\\\\Datas\\\\Kaggle\\\\DigitRecognizer\\\\\"\n",
    "train = pd.read_csv(dataPath + \"train.csv\")\n",
    "test = pd.read_csv(dataPath + \"test.csv\")\n",
    "\n",
    "#准备数据\n",
    "trainLabel = train[\"label\"]\n",
    "trainData = train.drop([\"label\"],axis = 1)\n",
    "\n",
    "#开始训练\n",
    "neigh = KNeighborsClassifier(n_neighbors = 5)\n",
    "neigh.fit(trainData, trainLabel)\n",
    "predictLabel = neigh.predict(test)\n",
    "resultCsv = pd.DataFrame()\n",
    "resultCsv[\"ImageId\"] = range(1,test.shape[0] + 1) \n",
    "resultCsv[\"Label\"] = predictLabel\n",
    "resultCsv.to_csv(dataPath + \"submission.csv\")\n",
    "print \"finished!\"\n",
    "\n",
    "\n",
    "\n"
   ]
  },
  {
   "cell_type": "code",
   "execution_count": null,
   "metadata": {},
   "outputs": [],
   "source": []
  }
 ],
 "metadata": {
  "kernelspec": {
   "display_name": "Python 2",
   "language": "python",
   "name": "python2"
  },
  "language_info": {
   "codemirror_mode": {
    "name": "ipython",
    "version": 2
   },
   "file_extension": ".py",
   "mimetype": "text/x-python",
   "name": "python",
   "nbconvert_exporter": "python",
   "pygments_lexer": "ipython2",
   "version": "2.7.6"
  }
 },
 "nbformat": 4,
 "nbformat_minor": 0
}
