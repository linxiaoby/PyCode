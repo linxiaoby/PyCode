{
 "cells": [
  {
   "cell_type": "code",
   "execution_count": null,
   "metadata": {
    "collapsed": true
   },
   "outputs": [],
   "source": [
    "import matplotlib.pyplot as plt\n",
    "import numpy as np\n",
    "from sklearn.svm import SVC\n",
    "X = np.array([[-1,-1],[-2,-1],[1,1],[2,1],[-1,1],[-1,2],[1,-1],[1,-2]])\n",
    "y = np.array([0,0,1,1,2,2,3,3])\n",
    "# y=np.array([1,1,2,2,3,3,4,4])\n",
    "# clf = SVC(decision_function_shape=\"ovr\",probability=True)\n",
    "clf = SVC(probability=True)\n",
    "clf.fit(X, y)\n",
    "print(clf.decision_function(X))\n",
    "'''\n",
    "对于n分类，会有n个分类器，然后，任意两个分类器都可以算出一个分类界面，这样，用decision_function()时，对于任意一个样例，就会有n*(n-1)/2个值。\n",
    "任意两个分类器可以算出一个分类界面，然后这个值就是距离分类界面的距离。\n",
    "我想，这个函数是为了统计画图，对于二分类时最明显，用来统计每个点离超平面有多远，为了在空间中直观的表示数据以及画超平面还有间隔平面等。\n",
    "decision_function_shape=\"ovr\"时是4个值，为ovo时是6个值。\n",
    "'''\n",
    "print(clf.predict(X))\n",
    "clf.predict_proba(X) #这个是得分,每个分类器的得分，取最大得分对应的类。\n",
    "#画图\n",
    "plot_step=0.02\n",
    "x_min, x_max = X[:, 0].min() - 1, X[:, 0].max() + 1\n",
    "y_min, y_max = X[:, 1].min() - 1, X[:, 1].max() + 1\n",
    "xx, yy = np.meshgrid(np.arange(x_min, x_max, plot_step),\n",
    "                     np.arange(y_min, y_max, plot_step))\n",
    "\n",
    "Z = clf.predict(np.c_[xx.ravel(), yy.ravel()]) #对坐标风格上的点进行预测，来画分界面。其实最终看到的类的分界线就是分界面的边界线。\n",
    "Z = Z.reshape(xx.shape)\n",
    "cs = plt.contourf(xx, yy, Z, cmap=plt.cm.Paired)\n",
    "plt.axis(\"tight\")\n",
    "\n",
    "class_names=\"ABCD\"\n",
    "plot_colors=\"rybg\"\n",
    "for i, n, c in zip(range(4), class_names, plot_colors):\n",
    "    idx = np.where(y == i) #i为0或者1，两个类\n",
    "    plt.scatter(X[idx, 0], X[idx, 1],\n",
    "                c=c, cmap=plt.cm.Paired,\n",
    "                label=\"Class %s\" % n)\n",
    "plt.xlim(x_min, x_max)\n",
    "plt.ylim(y_min, y_max)\n",
    "plt.legend(loc='upper right')\n",
    "plt.xlabel('x')\n",
    "plt.ylabel('y')\n",
    "plt.title('Decision Boundary')\n",
    "plt.show()"
   ]
  },
  {
   "cell_type": "code",
   "execution_count": null,
   "metadata": {},
   "outputs": [
    {
     "name": "stdout",
     "output_type": "stream",
     "text": [
      "['e' 'e' 'b' 'b' 'c' 'c' 'd' 'd']\n"
     ]
    },
    {
     "data": {
      "text/plain": [
       "array([[ 0.03936633,  0.02533797,  0.02685744,  0.90843825],\n       [ 0.04378207,  0.02642239,  0.02486768,  0.90492786],\n       [ 0.90893137,  0.02626739,  0.02537024,  0.039431  ],\n       [ 0.90534719,  0.02430741,  0.02647833,  0.04386708],\n       [ 0.02515534,  0.90857172,  0.03948696,  0.02678598],\n       [ 0.02625674,  0.90494863,  0.04393571,  0.02485892],\n       [ 0.02707907,  0.03950542,  0.90819393,  0.02522157],\n       [ 0.02511562,  0.04390595,  0.90470198,  0.02627645]])"
      ]
     },
     "execution_count": 11,
     "metadata": {},
     "output_type": "execute_result"
    }
   ],
   "source": [
    "import matplotlib.pyplot as plt\n",
    "import numpy as np\n",
    "from sklearn.svm import SVC\n",
    "X = np.array([['a',-1],[-2,-1],[1,1],[2,1],[-1,1],[-1,2],[1,-1],[1,-2]])\n",
    "# y = np.array([0,0,1,1,2,2,3,3])\n",
    "y = np.array(['e','e','b','b','c','c','d','d'])\n",
    "# y=np.array([1,1,2,2,3,3,4,4])\n",
    "# clf = SVC(decision_function_shape=\"ovr\",probability=True)\n",
    "clf = SVC(probability=True)\n",
    "# clf = SVC()\n",
    "clf.fit(X, y)\n",
    "# print(clf.decision_function(X))\n",
    "print(clf.predict(X))\n",
    "clf.predict_proba(X) #这个是得分,每个分类器的得分，取最大得分对应的类。"
   ]
  },
  {
   "cell_type": "code",
   "execution_count": null,
   "metadata": {},
   "outputs": [],
   "source": []
  }
 ],
 "metadata": {
  "kernelspec": {
   "display_name": "Python 2",
   "language": "python",
   "name": "python2"
  },
  "language_info": {
   "codemirror_mode": {
    "name": "ipython",
    "version": 2
   },
   "file_extension": ".py",
   "mimetype": "text/x-python",
   "name": "python",
   "nbconvert_exporter": "python",
   "pygments_lexer": "ipython2",
   "version": "2.7.6"
  }
 },
 "nbformat": 4,
 "nbformat_minor": 0
}
