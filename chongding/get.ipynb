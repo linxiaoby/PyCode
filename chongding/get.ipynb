{
 "cells": [
  {
   "cell_type": "code",
   "execution_count": 6,
   "metadata": {
    "collapsed": true
   },
   "outputs": [
    {
     "data": {
      "text/plain": [
       "True"
      ]
     },
     "execution_count": 6,
     "metadata": {},
     "output_type": "execute_result"
    }
   ],
   "source": [
    "import webbrowser\n",
    "import requests\n",
    "# webbrowser.document.encoding = \"UTF-8\" \n",
    "webbrowser.open(\"http://www.baidu.com/s?wd=\" + u\"中国\")\n",
    "\n",
    "# -*- coding: UTF-8 -*-\n",
    "import webbrowser\n",
    "import urllib.request\n",
    "kw = \"你好呀\"\n",
    "w = urllib.request.quote(kw)\n",
    "print(w)\n",
    "webbrowser.open(\"https://www.baidu.com/s?ie=UTF-8&wd=\"+w)"
   ]
  },
  {
   "cell_type": "code",
   "execution_count": null,
   "metadata": {},
   "outputs": [],
   "source": []
  }
 ],
 "metadata": {
  "kernelspec": {
   "display_name": "Python 2",
   "language": "python",
   "name": "python2"
  },
  "language_info": {
   "codemirror_mode": {
    "name": "ipython",
    "version": 2
   },
   "file_extension": ".py",
   "mimetype": "text/x-python",
   "name": "python",
   "nbconvert_exporter": "python",
   "pygments_lexer": "ipython2",
   "version": "2.7.6"
  }
 },
 "nbformat": 4,
 "nbformat_minor": 0
}
